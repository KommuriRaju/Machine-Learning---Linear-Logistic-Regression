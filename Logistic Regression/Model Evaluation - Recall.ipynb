{
 "cells": [
  {
   "cell_type": "markdown",
   "metadata": {
    "id": "YJkFA5FDgQ6v"
   },
   "source": [
    "\n",
    "\n",
    "# Model evaluation - Recall Case"
   ]
  },
  {
   "cell_type": "markdown",
   "metadata": {
    "id": "c9HzivIqgQ6y"
   },
   "source": [
    "<a id = section1></a>"
   ]
  },
  {
   "cell_type": "markdown",
   "metadata": {
    "id": "Clnkxf9BhQBf"
   },
   "source": [
    "---\n",
    "\n",
    "# **Introduction**\n",
    "---\n",
    "\n",
    "- **Model Evaluation** is an **integral part of the model development process**.\n",
    "\n",
    "- It **helps to find** **the best model that represents our data** and how well the chosen model will work in the future. \n",
    "\n",
    "- **Evaluating model performance** with the data used for **training should not be used** in data science because the model has already learned the features passed for training and when evaluated on the same data it will pass overfitted result."
   ]
  },
  {
   "cell_type": "markdown",
   "metadata": {
    "id": "hlHtiMTcxexk"
   },
   "source": [
    "\n",
    "### **Need for Model Evaluation.**\n",
    "\n",
    "- Model Evaluation **plays an important role** in the whole process.\n",
    "\n",
    "- The performance of a model is **calculated by choosing the right metrics**.\n",
    "\n",
    "- The **right metrics** are generally **specific to the use case**.\n",
    "\n",
    "- It also helps us choose the right model."
   ]
  },
  {
   "cell_type": "markdown",
   "metadata": {
    "id": "T5I2Wcx7mqBN"
   },
   "source": [
    "\n",
    "### **What is Recall Score?**\n",
    "\n",
    "- Recall is the **proportion of actual positive** cases which are **correctly identified**.\n",
    "\n",
    "\n",
    "\n",
    "- The precise definition of recall is the **number of true positives divided by the number of true positives plus the number of false negatives**."
   ]
  },
  {
   "cell_type": "markdown",
   "metadata": {
    "id": "imv76u2HgQ6z"
   },
   "source": [
    "---\n",
    "\n",
    "# **Problem Statement**\n",
    "---\n",
    "\n",
    "- Given the __credit card transaction__ dataset, make a model to predict transactions are fradulent or not using random forest algorithm. </br>\n",
    "\n",
    "\n",
    "\n",
    "\n",
    "\n",
    "\n",
    "\n",
    "- The datasets contains _transactions made by credit cards in September 2013 by european cardholders_.\n",
    "\n",
    "- This dataset presents transactions that occurred in two days, where we have __38 frauds__ out of __10000 transactions__. \n",
    "\n",
    "- The dataset is _highly unbalanced_, the positive class (frauds) account for __0.0038%__ of all transactions.\n",
    "\n",
    "- Evaluate the model using possible __model evaluation techniques__."
   ]
  },
  {
   "cell_type": "markdown",
   "metadata": {
    "id": "4fWAPYx45KnC"
   },
   "source": [
    "---\n",
    "\n",
    "# **Installing & Importing Libraries**\n",
    "---"
   ]
  },
  {
   "cell_type": "markdown",
   "metadata": {
    "id": "UvjYmcr35Sde"
   },
   "source": [
    "### **Installing Libraries**"
   ]
  },
  {
   "cell_type": "code",
   "execution_count": 1,
   "metadata": {
    "colab": {
     "base_uri": "https://localhost:8080/",
     "height": 50
    },
    "id": "Tc9YIs1B5TEt",
    "outputId": "6c57a2f5-c136-49a5-9eae-6390324fa7a4"
   },
   "outputs": [
    {
     "name": "stderr",
     "output_type": "stream",
     "text": [
      "ERROR: Invalid requirement: '#'\n",
      "WARNING: You are using pip version 21.2.2; however, version 21.2.4 is available.\n",
      "You should consider upgrading via the 'c:\\users\\kommurir\\anaconda3\\python.exe -m pip install --upgrade pip' command.\n",
      "ERROR: Invalid requirement: '#'\n",
      "WARNING: You are using pip version 21.2.2; however, version 21.2.4 is available.\n",
      "You should consider upgrading via the 'c:\\users\\kommurir\\anaconda3\\python.exe -m pip install --upgrade pip' command.\n"
     ]
    }
   ],
   "source": [
    "!pip install -q datascience                   # Package that is required by pandas profiling\n",
    "!pip install -q pandas-profiling              # Library to generate basic statistics about data"
   ]
  },
  {
   "cell_type": "markdown",
   "metadata": {
    "id": "qXAtJebf5LuH"
   },
   "source": [
    "### **Upgrading Libraries**\n"
   ]
  },
  {
   "cell_type": "code",
   "execution_count": 2,
   "metadata": {
    "colab": {
     "base_uri": "https://localhost:8080/",
     "height": 168
    },
    "id": "GZFM3Auc5OmT",
    "outputId": "3a1202d8-3170-407a-85b5-fd236ff9c0c4"
   },
   "outputs": [
    {
     "name": "stderr",
     "output_type": "stream",
     "text": [
      "WARNING: You are using pip version 21.2.2; however, version 21.2.4 is available.\n",
      "You should consider upgrading via the 'c:\\users\\kommurir\\anaconda3\\python.exe -m pip install --upgrade pip' command.\n"
     ]
    }
   ],
   "source": [
    "!pip install -q --upgrade pandas-profiling"
   ]
  },
  {
   "cell_type": "markdown",
   "metadata": {
    "id": "v17MtNl05jbh"
   },
   "source": [
    "### **Importing Libraries**"
   ]
  },
  {
   "cell_type": "code",
   "execution_count": 3,
   "metadata": {
    "id": "mIurEoTv5kPK"
   },
   "outputs": [],
   "source": [
    "#-------------------------------------------------------------------------------------------------------------------------------\n",
    "import pandas as pd                                                 # Importing for panel data analysis\n",
    "from pandas_profiling import ProfileReport                          # Import Pandas Profiling (To generate Univariate Analysis) \n",
    "pd.set_option('display.max_columns', None)                          # Unfolding hidden features if the cardinality is high      \n",
    "pd.set_option('display.max_colwidth', None)                         # Unfolding the max feature width for better clearity      \n",
    "pd.set_option('display.max_rows', None)                             # Unfolding hidden data points if the cardinality is high\n",
    "pd.set_option('mode.chained_assignment', None)                      # Removing restriction over chained assignments operations\n",
    "pd.set_option('display.float_format', lambda x: '%.5f' % x)         # To suppress scientific notation over exponential values\n",
    "#-------------------------------------------------------------------------------------------------------------------------------\n",
    "import numpy as np                                                  # Importing package numpys (For Numerical Python)\n",
    "from scipy.stats import randint as sp_randint                       # for initializing random integer values\n",
    "#-------------------------------------------------------------------------------------------------------------------------------\n",
    "import matplotlib.pyplot as plt                                     # Importing pyplot interface using matplotlib\n",
    "from matplotlib.pylab import rcParams                               # Backend used for rendering and GUI integration                                               \n",
    "import seaborn as sns                                               # Importin seaborm library for interactive visualization\n",
    "%matplotlib inline\n",
    "#-------------------------------------------------------------------------------------------------------------------------------\n",
    "from sklearn.metrics import accuracy_score                          # For calculating the accuracy for the model\n",
    "from sklearn.metrics import precision_score                         # For calculating the Precision of the model\n",
    "from sklearn.metrics import recall_score                            # For calculating the recall of the model\n",
    "from sklearn.metrics import precision_recall_curve                  # For precision and recall metric estimation\n",
    "from sklearn.metrics import confusion_matrix                        # For verifying model performance using confusion matrix\n",
    "from sklearn.metrics import f1_score                                # For Checking the F1-Score of our model  \n",
    "from sklearn.metrics import roc_curve                               # For Roc-Auc metric estimation\n",
    "#-------------------------------------------------------------------------------------------------------------------------------\n",
    "from sklearn.model_selection import train_test_split                # To split the data in training and testing part     \n",
    "from sklearn.ensemble import RandomForestClassifier                 # To create the RandomForest Model\n",
    "from sklearn.model_selection import RandomizedSearchCV              # to create a RandomSearched hyper-tuned model\n",
    "from sklearn.preprocessing import RobustScaler                      # to scale the data based on their inter-quartile range\n",
    "#-------------------------------------------------------------------------------------------------------------------------------\n",
    "import warnings                                                     # Importing warning to disable runtime warnings\n",
    "warnings.filterwarnings(\"ignore\")                                   # Warnings will appear only once"
   ]
  },
  {
   "cell_type": "markdown",
   "metadata": {
    "id": "zZx7kZmy6qcZ"
   },
   "source": [
    "---\n",
    "<a name = Section4></a>\n",
    "# **4. Data Acquisition & Description**\n",
    "---\n",
    "\n",
    "\n",
    "- The data set is based on the **credit-card transactions** made in **September 2013** by **European cardholders**.\n",
    "\n",
    "- This data set presents **transactions** that **occurred** in **two days** \n",
    "\n",
    "| Records | Features | Dataset Size |\n",
    "| :-- | :-- | :-- |\n",
    "| 100 | 31 | 3.42 MB| \n",
    "\n",
    "\n",
    "| Id | Features | Description |\n",
    "| :-- | :--| :--| \n",
    "|01| **Time** | Seconds elapsed between each transaction and the first transaction in the dataset. Range:[0, 15012]|\n",
    "|02| **V1...V28** | Encrypted information of the credit details.| \n",
    "|03|**Amount**|The transaction amount peformed by the credit holder. Range: [0, 7712.43]|\n",
    "|04|**Class**|Label explaing fraudulent and non-fraudulent transactions. [0: Non-fraudulent, 1: Fraudulent]|"
   ]
  },
  {
   "cell_type": "code",
   "execution_count": 4,
   "metadata": {
    "colab": {
     "base_uri": "https://localhost:8080/",
     "height": 215
    },
    "id": "hj8UmUJeU8tO",
    "outputId": "f5cb9c5d-5eb5-4ffe-b36b-bef172c62cb1"
   },
   "outputs": [
    {
     "data": {
      "text/html": [
       "<div>\n",
       "<style scoped>\n",
       "    .dataframe tbody tr th:only-of-type {\n",
       "        vertical-align: middle;\n",
       "    }\n",
       "\n",
       "    .dataframe tbody tr th {\n",
       "        vertical-align: top;\n",
       "    }\n",
       "\n",
       "    .dataframe thead th {\n",
       "        text-align: right;\n",
       "    }\n",
       "</style>\n",
       "<table border=\"1\" class=\"dataframe\">\n",
       "  <thead>\n",
       "    <tr style=\"text-align: right;\">\n",
       "      <th></th>\n",
       "      <th>Time</th>\n",
       "      <th>V1</th>\n",
       "      <th>V2</th>\n",
       "      <th>V3</th>\n",
       "      <th>V4</th>\n",
       "      <th>V5</th>\n",
       "      <th>V6</th>\n",
       "      <th>V7</th>\n",
       "      <th>V8</th>\n",
       "      <th>V9</th>\n",
       "      <th>V10</th>\n",
       "      <th>V11</th>\n",
       "      <th>V12</th>\n",
       "      <th>V13</th>\n",
       "      <th>V14</th>\n",
       "      <th>V15</th>\n",
       "      <th>V16</th>\n",
       "      <th>V17</th>\n",
       "      <th>V18</th>\n",
       "      <th>V19</th>\n",
       "      <th>V20</th>\n",
       "      <th>V21</th>\n",
       "      <th>V22</th>\n",
       "      <th>V23</th>\n",
       "      <th>V24</th>\n",
       "      <th>V25</th>\n",
       "      <th>V26</th>\n",
       "      <th>V27</th>\n",
       "      <th>V28</th>\n",
       "      <th>Amount</th>\n",
       "      <th>Class</th>\n",
       "    </tr>\n",
       "  </thead>\n",
       "  <tbody>\n",
       "    <tr>\n",
       "      <th>0</th>\n",
       "      <td>0</td>\n",
       "      <td>-1.35981</td>\n",
       "      <td>-0.07278</td>\n",
       "      <td>2.53635</td>\n",
       "      <td>1.37816</td>\n",
       "      <td>-0.33832</td>\n",
       "      <td>0.46239</td>\n",
       "      <td>0.23960</td>\n",
       "      <td>0.09870</td>\n",
       "      <td>0.36379</td>\n",
       "      <td>0.09079</td>\n",
       "      <td>-0.55160</td>\n",
       "      <td>-0.61780</td>\n",
       "      <td>-0.99139</td>\n",
       "      <td>-0.31117</td>\n",
       "      <td>1.46818</td>\n",
       "      <td>-0.47040</td>\n",
       "      <td>0.20797</td>\n",
       "      <td>0.02579</td>\n",
       "      <td>0.40399</td>\n",
       "      <td>0.25141</td>\n",
       "      <td>-0.01831</td>\n",
       "      <td>0.27784</td>\n",
       "      <td>-0.11047</td>\n",
       "      <td>0.06693</td>\n",
       "      <td>0.12854</td>\n",
       "      <td>-0.18911</td>\n",
       "      <td>0.13356</td>\n",
       "      <td>-0.02105</td>\n",
       "      <td>149.62000</td>\n",
       "      <td>0</td>\n",
       "    </tr>\n",
       "    <tr>\n",
       "      <th>1</th>\n",
       "      <td>0</td>\n",
       "      <td>1.19186</td>\n",
       "      <td>0.26615</td>\n",
       "      <td>0.16648</td>\n",
       "      <td>0.44815</td>\n",
       "      <td>0.06002</td>\n",
       "      <td>-0.08236</td>\n",
       "      <td>-0.07880</td>\n",
       "      <td>0.08510</td>\n",
       "      <td>-0.25543</td>\n",
       "      <td>-0.16697</td>\n",
       "      <td>1.61273</td>\n",
       "      <td>1.06524</td>\n",
       "      <td>0.48910</td>\n",
       "      <td>-0.14377</td>\n",
       "      <td>0.63556</td>\n",
       "      <td>0.46392</td>\n",
       "      <td>-0.11480</td>\n",
       "      <td>-0.18336</td>\n",
       "      <td>-0.14578</td>\n",
       "      <td>-0.06908</td>\n",
       "      <td>-0.22578</td>\n",
       "      <td>-0.63867</td>\n",
       "      <td>0.10129</td>\n",
       "      <td>-0.33985</td>\n",
       "      <td>0.16717</td>\n",
       "      <td>0.12589</td>\n",
       "      <td>-0.00898</td>\n",
       "      <td>0.01472</td>\n",
       "      <td>2.69000</td>\n",
       "      <td>0</td>\n",
       "    </tr>\n",
       "    <tr>\n",
       "      <th>2</th>\n",
       "      <td>1</td>\n",
       "      <td>-1.35835</td>\n",
       "      <td>-1.34016</td>\n",
       "      <td>1.77321</td>\n",
       "      <td>0.37978</td>\n",
       "      <td>-0.50320</td>\n",
       "      <td>1.80050</td>\n",
       "      <td>0.79146</td>\n",
       "      <td>0.24768</td>\n",
       "      <td>-1.51465</td>\n",
       "      <td>0.20764</td>\n",
       "      <td>0.62450</td>\n",
       "      <td>0.06608</td>\n",
       "      <td>0.71729</td>\n",
       "      <td>-0.16595</td>\n",
       "      <td>2.34586</td>\n",
       "      <td>-2.89008</td>\n",
       "      <td>1.10997</td>\n",
       "      <td>-0.12136</td>\n",
       "      <td>-2.26186</td>\n",
       "      <td>0.52498</td>\n",
       "      <td>0.24800</td>\n",
       "      <td>0.77168</td>\n",
       "      <td>0.90941</td>\n",
       "      <td>-0.68928</td>\n",
       "      <td>-0.32764</td>\n",
       "      <td>-0.13910</td>\n",
       "      <td>-0.05535</td>\n",
       "      <td>-0.05975</td>\n",
       "      <td>378.66000</td>\n",
       "      <td>0</td>\n",
       "    </tr>\n",
       "    <tr>\n",
       "      <th>3</th>\n",
       "      <td>1</td>\n",
       "      <td>-0.96627</td>\n",
       "      <td>-0.18523</td>\n",
       "      <td>1.79299</td>\n",
       "      <td>-0.86329</td>\n",
       "      <td>-0.01031</td>\n",
       "      <td>1.24720</td>\n",
       "      <td>0.23761</td>\n",
       "      <td>0.37744</td>\n",
       "      <td>-1.38702</td>\n",
       "      <td>-0.05495</td>\n",
       "      <td>-0.22649</td>\n",
       "      <td>0.17823</td>\n",
       "      <td>0.50776</td>\n",
       "      <td>-0.28792</td>\n",
       "      <td>-0.63142</td>\n",
       "      <td>-1.05965</td>\n",
       "      <td>-0.68409</td>\n",
       "      <td>1.96578</td>\n",
       "      <td>-1.23262</td>\n",
       "      <td>-0.20804</td>\n",
       "      <td>-0.10830</td>\n",
       "      <td>0.00527</td>\n",
       "      <td>-0.19032</td>\n",
       "      <td>-1.17558</td>\n",
       "      <td>0.64738</td>\n",
       "      <td>-0.22193</td>\n",
       "      <td>0.06272</td>\n",
       "      <td>0.06146</td>\n",
       "      <td>123.50000</td>\n",
       "      <td>0</td>\n",
       "    </tr>\n",
       "    <tr>\n",
       "      <th>4</th>\n",
       "      <td>2</td>\n",
       "      <td>-1.15823</td>\n",
       "      <td>0.87774</td>\n",
       "      <td>1.54872</td>\n",
       "      <td>0.40303</td>\n",
       "      <td>-0.40719</td>\n",
       "      <td>0.09592</td>\n",
       "      <td>0.59294</td>\n",
       "      <td>-0.27053</td>\n",
       "      <td>0.81774</td>\n",
       "      <td>0.75307</td>\n",
       "      <td>-0.82284</td>\n",
       "      <td>0.53820</td>\n",
       "      <td>1.34585</td>\n",
       "      <td>-1.11967</td>\n",
       "      <td>0.17512</td>\n",
       "      <td>-0.45145</td>\n",
       "      <td>-0.23703</td>\n",
       "      <td>-0.03819</td>\n",
       "      <td>0.80349</td>\n",
       "      <td>0.40854</td>\n",
       "      <td>-0.00943</td>\n",
       "      <td>0.79828</td>\n",
       "      <td>-0.13746</td>\n",
       "      <td>0.14127</td>\n",
       "      <td>-0.20601</td>\n",
       "      <td>0.50229</td>\n",
       "      <td>0.21942</td>\n",
       "      <td>0.21515</td>\n",
       "      <td>69.99000</td>\n",
       "      <td>0</td>\n",
       "    </tr>\n",
       "  </tbody>\n",
       "</table>\n",
       "</div>"
      ],
      "text/plain": [
       "   Time       V1       V2      V3       V4       V5       V6       V7  \\\n",
       "0     0 -1.35981 -0.07278 2.53635  1.37816 -0.33832  0.46239  0.23960   \n",
       "1     0  1.19186  0.26615 0.16648  0.44815  0.06002 -0.08236 -0.07880   \n",
       "2     1 -1.35835 -1.34016 1.77321  0.37978 -0.50320  1.80050  0.79146   \n",
       "3     1 -0.96627 -0.18523 1.79299 -0.86329 -0.01031  1.24720  0.23761   \n",
       "4     2 -1.15823  0.87774 1.54872  0.40303 -0.40719  0.09592  0.59294   \n",
       "\n",
       "        V8       V9      V10      V11      V12      V13      V14      V15  \\\n",
       "0  0.09870  0.36379  0.09079 -0.55160 -0.61780 -0.99139 -0.31117  1.46818   \n",
       "1  0.08510 -0.25543 -0.16697  1.61273  1.06524  0.48910 -0.14377  0.63556   \n",
       "2  0.24768 -1.51465  0.20764  0.62450  0.06608  0.71729 -0.16595  2.34586   \n",
       "3  0.37744 -1.38702 -0.05495 -0.22649  0.17823  0.50776 -0.28792 -0.63142   \n",
       "4 -0.27053  0.81774  0.75307 -0.82284  0.53820  1.34585 -1.11967  0.17512   \n",
       "\n",
       "       V16      V17      V18      V19      V20      V21      V22      V23  \\\n",
       "0 -0.47040  0.20797  0.02579  0.40399  0.25141 -0.01831  0.27784 -0.11047   \n",
       "1  0.46392 -0.11480 -0.18336 -0.14578 -0.06908 -0.22578 -0.63867  0.10129   \n",
       "2 -2.89008  1.10997 -0.12136 -2.26186  0.52498  0.24800  0.77168  0.90941   \n",
       "3 -1.05965 -0.68409  1.96578 -1.23262 -0.20804 -0.10830  0.00527 -0.19032   \n",
       "4 -0.45145 -0.23703 -0.03819  0.80349  0.40854 -0.00943  0.79828 -0.13746   \n",
       "\n",
       "       V24      V25      V26      V27      V28    Amount  Class  \n",
       "0  0.06693  0.12854 -0.18911  0.13356 -0.02105 149.62000      0  \n",
       "1 -0.33985  0.16717  0.12589 -0.00898  0.01472   2.69000      0  \n",
       "2 -0.68928 -0.32764 -0.13910 -0.05535 -0.05975 378.66000      0  \n",
       "3 -1.17558  0.64738 -0.22193  0.06272  0.06146 123.50000      0  \n",
       "4  0.14127 -0.20601  0.50229  0.21942  0.21515  69.99000      0  "
      ]
     },
     "execution_count": 4,
     "metadata": {},
     "output_type": "execute_result"
    }
   ],
   "source": [
    "fraud = pd.read_csv('https://raw.githubusercontent.com/KommuriRaju/Machine-Learning-Projects/main/Logistic%20Regression/Fraud_Detection_Model_Evaluation_Recall.csv')\n",
    "fraud.head()"
   ]
  },
  {
   "cell_type": "code",
   "execution_count": 5,
   "metadata": {},
   "outputs": [],
   "source": [
    "fraud.to_csv(\"Fraud_Detection_Model_Evaluation_Recall.csv\")"
   ]
  },
  {
   "cell_type": "markdown",
   "metadata": {
    "id": "gkUhZ1opv-xQ"
   },
   "source": [
    "\n",
    "### **Data Information**\n",
    "\n",
    "- In this section we will see the **information about the types of features**."
   ]
  },
  {
   "cell_type": "code",
   "execution_count": 6,
   "metadata": {
    "colab": {
     "base_uri": "https://localhost:8080/",
     "height": 67
    },
    "id": "dB12mtBawAna",
    "outputId": "28ae107d-0b6a-4e45-cc00-e60cb65c98c8"
   },
   "outputs": [
    {
     "name": "stdout",
     "output_type": "stream",
     "text": [
      "Shape of our Data is : (10000, 31)\n",
      "Number of Rows are : 10000\n",
      "Number of Columns are : 31\n"
     ]
    }
   ],
   "source": [
    "print(\"Shape of our Data is :\", fraud.shape)\n",
    "print(\"Number of Rows are :\",fraud.shape[0])\n",
    "print(\"Number of Columns are :\",fraud.shape[1])"
   ]
  },
  {
   "cell_type": "code",
   "execution_count": 7,
   "metadata": {
    "colab": {
     "base_uri": "https://localhost:8080/",
     "height": 655
    },
    "id": "0d5PIgUhwGow",
    "outputId": "b83c9835-82cb-40dd-fc73-0491367c4635"
   },
   "outputs": [
    {
     "name": "stdout",
     "output_type": "stream",
     "text": [
      "<class 'pandas.core.frame.DataFrame'>\n",
      "RangeIndex: 10000 entries, 0 to 9999\n",
      "Data columns (total 31 columns):\n",
      " #   Column  Non-Null Count  Dtype  \n",
      "---  ------  --------------  -----  \n",
      " 0   Time    10000 non-null  int64  \n",
      " 1   V1      10000 non-null  float64\n",
      " 2   V2      10000 non-null  float64\n",
      " 3   V3      10000 non-null  float64\n",
      " 4   V4      10000 non-null  float64\n",
      " 5   V5      10000 non-null  float64\n",
      " 6   V6      10000 non-null  float64\n",
      " 7   V7      10000 non-null  float64\n",
      " 8   V8      10000 non-null  float64\n",
      " 9   V9      10000 non-null  float64\n",
      " 10  V10     10000 non-null  float64\n",
      " 11  V11     10000 non-null  float64\n",
      " 12  V12     10000 non-null  float64\n",
      " 13  V13     10000 non-null  float64\n",
      " 14  V14     10000 non-null  float64\n",
      " 15  V15     10000 non-null  float64\n",
      " 16  V16     10000 non-null  float64\n",
      " 17  V17     10000 non-null  float64\n",
      " 18  V18     10000 non-null  float64\n",
      " 19  V19     10000 non-null  float64\n",
      " 20  V20     10000 non-null  float64\n",
      " 21  V21     10000 non-null  float64\n",
      " 22  V22     10000 non-null  float64\n",
      " 23  V23     10000 non-null  float64\n",
      " 24  V24     10000 non-null  float64\n",
      " 25  V25     10000 non-null  float64\n",
      " 26  V26     10000 non-null  float64\n",
      " 27  V27     10000 non-null  float64\n",
      " 28  V28     10000 non-null  float64\n",
      " 29  Amount  10000 non-null  float64\n",
      " 30  Class   10000 non-null  int64  \n",
      "dtypes: float64(29), int64(2)\n",
      "memory usage: 2.4 MB\n"
     ]
    }
   ],
   "source": [
    "fraud.info(verbose = True, memory_usage='deep', null_counts=True)"
   ]
  },
  {
   "cell_type": "markdown",
   "metadata": {
    "id": "7f5jRfkrwWpv"
   },
   "source": [
    "**Observations:**\n",
    "\n",
    "- There are **no null values present**.\n",
    "\n",
    "- **Each feature** seems to have **correct data type**."
   ]
  },
  {
   "cell_type": "markdown",
   "metadata": {
    "id": "-S8PhBoVvy88"
   },
   "source": [
    "### **Data Statistics**\n",
    "\n",
    "- In this section we will get **descriptive statistics of the data** and see some observations."
   ]
  },
  {
   "cell_type": "code",
   "execution_count": 8,
   "metadata": {
    "colab": {
     "base_uri": "https://localhost:8080/",
     "height": 304
    },
    "id": "_Ctt5kWugQ7M",
    "outputId": "ae6ec776-a55c-40c6-a6cd-4b12800cdbf5"
   },
   "outputs": [
    {
     "data": {
      "text/html": [
       "<div>\n",
       "<style scoped>\n",
       "    .dataframe tbody tr th:only-of-type {\n",
       "        vertical-align: middle;\n",
       "    }\n",
       "\n",
       "    .dataframe tbody tr th {\n",
       "        vertical-align: top;\n",
       "    }\n",
       "\n",
       "    .dataframe thead th {\n",
       "        text-align: right;\n",
       "    }\n",
       "</style>\n",
       "<table border=\"1\" class=\"dataframe\">\n",
       "  <thead>\n",
       "    <tr style=\"text-align: right;\">\n",
       "      <th></th>\n",
       "      <th>Time</th>\n",
       "      <th>V1</th>\n",
       "      <th>V2</th>\n",
       "      <th>V3</th>\n",
       "      <th>V4</th>\n",
       "      <th>V5</th>\n",
       "      <th>V6</th>\n",
       "      <th>V7</th>\n",
       "      <th>V8</th>\n",
       "      <th>V9</th>\n",
       "      <th>V10</th>\n",
       "      <th>V11</th>\n",
       "      <th>V12</th>\n",
       "      <th>V13</th>\n",
       "      <th>V14</th>\n",
       "      <th>V15</th>\n",
       "      <th>V16</th>\n",
       "      <th>V17</th>\n",
       "      <th>V18</th>\n",
       "      <th>V19</th>\n",
       "      <th>V20</th>\n",
       "      <th>V21</th>\n",
       "      <th>V22</th>\n",
       "      <th>V23</th>\n",
       "      <th>V24</th>\n",
       "      <th>V25</th>\n",
       "      <th>V26</th>\n",
       "      <th>V27</th>\n",
       "      <th>V28</th>\n",
       "      <th>Amount</th>\n",
       "      <th>Class</th>\n",
       "    </tr>\n",
       "  </thead>\n",
       "  <tbody>\n",
       "    <tr>\n",
       "      <th>count</th>\n",
       "      <td>10000.00000</td>\n",
       "      <td>10000.00000</td>\n",
       "      <td>10000.00000</td>\n",
       "      <td>10000.00000</td>\n",
       "      <td>10000.00000</td>\n",
       "      <td>10000.00000</td>\n",
       "      <td>10000.00000</td>\n",
       "      <td>10000.00000</td>\n",
       "      <td>10000.00000</td>\n",
       "      <td>10000.00000</td>\n",
       "      <td>10000.00000</td>\n",
       "      <td>10000.00000</td>\n",
       "      <td>10000.00000</td>\n",
       "      <td>10000.00000</td>\n",
       "      <td>10000.00000</td>\n",
       "      <td>10000.00000</td>\n",
       "      <td>10000.00000</td>\n",
       "      <td>10000.00000</td>\n",
       "      <td>10000.00000</td>\n",
       "      <td>10000.00000</td>\n",
       "      <td>10000.00000</td>\n",
       "      <td>10000.00000</td>\n",
       "      <td>10000.00000</td>\n",
       "      <td>10000.00000</td>\n",
       "      <td>10000.00000</td>\n",
       "      <td>10000.00000</td>\n",
       "      <td>10000.00000</td>\n",
       "      <td>10000.00000</td>\n",
       "      <td>10000.00000</td>\n",
       "      <td>10000.00000</td>\n",
       "      <td>10000.00000</td>\n",
       "    </tr>\n",
       "    <tr>\n",
       "      <th>mean</th>\n",
       "      <td>5966.03340</td>\n",
       "      <td>-0.24186</td>\n",
       "      <td>0.28195</td>\n",
       "      <td>0.90627</td>\n",
       "      <td>0.26415</td>\n",
       "      <td>-0.04640</td>\n",
       "      <td>0.13311</td>\n",
       "      <td>-0.07169</td>\n",
       "      <td>-0.06478</td>\n",
       "      <td>0.80222</td>\n",
       "      <td>-0.22300</td>\n",
       "      <td>0.76607</td>\n",
       "      <td>-1.27251</td>\n",
       "      <td>0.85141</td>\n",
       "      <td>0.70060</td>\n",
       "      <td>-0.12963</td>\n",
       "      <td>-0.00776</td>\n",
       "      <td>0.31899</td>\n",
       "      <td>-0.01607</td>\n",
       "      <td>-0.07042</td>\n",
       "      <td>0.02751</td>\n",
       "      <td>-0.05199</td>\n",
       "      <td>-0.15267</td>\n",
       "      <td>-0.03327</td>\n",
       "      <td>0.02133</td>\n",
       "      <td>0.08715</td>\n",
       "      <td>0.10814</td>\n",
       "      <td>0.00552</td>\n",
       "      <td>0.00291</td>\n",
       "      <td>63.03019</td>\n",
       "      <td>0.00380</td>\n",
       "    </tr>\n",
       "    <tr>\n",
       "      <th>std</th>\n",
       "      <td>4473.40374</td>\n",
       "      <td>1.52168</td>\n",
       "      <td>1.30814</td>\n",
       "      <td>1.15915</td>\n",
       "      <td>1.44123</td>\n",
       "      <td>1.18294</td>\n",
       "      <td>1.30731</td>\n",
       "      <td>1.07743</td>\n",
       "      <td>1.25906</td>\n",
       "      <td>1.15520</td>\n",
       "      <td>1.09355</td>\n",
       "      <td>1.16860</td>\n",
       "      <td>1.52766</td>\n",
       "      <td>1.21305</td>\n",
       "      <td>1.23929</td>\n",
       "      <td>0.97557</td>\n",
       "      <td>0.88206</td>\n",
       "      <td>0.96639</td>\n",
       "      <td>0.79426</td>\n",
       "      <td>0.80837</td>\n",
       "      <td>0.58999</td>\n",
       "      <td>0.91381</td>\n",
       "      <td>0.63108</td>\n",
       "      <td>0.48781</td>\n",
       "      <td>0.59443</td>\n",
       "      <td>0.42817</td>\n",
       "      <td>0.56279</td>\n",
       "      <td>0.41087</td>\n",
       "      <td>0.26625</td>\n",
       "      <td>184.48616</td>\n",
       "      <td>0.06153</td>\n",
       "    </tr>\n",
       "    <tr>\n",
       "      <th>min</th>\n",
       "      <td>0.00000</td>\n",
       "      <td>-27.67057</td>\n",
       "      <td>-34.60765</td>\n",
       "      <td>-15.49622</td>\n",
       "      <td>-4.65755</td>\n",
       "      <td>-32.09213</td>\n",
       "      <td>-23.49671</td>\n",
       "      <td>-26.54814</td>\n",
       "      <td>-23.63250</td>\n",
       "      <td>-6.32980</td>\n",
       "      <td>-13.19342</td>\n",
       "      <td>-2.59533</td>\n",
       "      <td>-17.76914</td>\n",
       "      <td>-3.38951</td>\n",
       "      <td>-19.21433</td>\n",
       "      <td>-4.15253</td>\n",
       "      <td>-12.22719</td>\n",
       "      <td>-18.58737</td>\n",
       "      <td>-6.92076</td>\n",
       "      <td>-4.93273</td>\n",
       "      <td>-13.27603</td>\n",
       "      <td>-11.46843</td>\n",
       "      <td>-8.52714</td>\n",
       "      <td>-15.14434</td>\n",
       "      <td>-2.51238</td>\n",
       "      <td>-2.57736</td>\n",
       "      <td>-1.33856</td>\n",
       "      <td>-7.97610</td>\n",
       "      <td>-3.50925</td>\n",
       "      <td>0.00000</td>\n",
       "      <td>0.00000</td>\n",
       "    </tr>\n",
       "    <tr>\n",
       "      <th>25%</th>\n",
       "      <td>2072.75000</td>\n",
       "      <td>-1.01328</td>\n",
       "      <td>-0.20834</td>\n",
       "      <td>0.41280</td>\n",
       "      <td>-0.61442</td>\n",
       "      <td>-0.64339</td>\n",
       "      <td>-0.62993</td>\n",
       "      <td>-0.54234</td>\n",
       "      <td>-0.19075</td>\n",
       "      <td>0.07087</td>\n",
       "      <td>-0.68842</td>\n",
       "      <td>-0.06369</td>\n",
       "      <td>-2.36811</td>\n",
       "      <td>-0.01798</td>\n",
       "      <td>0.08040</td>\n",
       "      <td>-0.70953</td>\n",
       "      <td>-0.49554</td>\n",
       "      <td>-0.18003</td>\n",
       "      <td>-0.45030</td>\n",
       "      <td>-0.55213</td>\n",
       "      <td>-0.14998</td>\n",
       "      <td>-0.26812</td>\n",
       "      <td>-0.54964</td>\n",
       "      <td>-0.17412</td>\n",
       "      <td>-0.32782</td>\n",
       "      <td>-0.15814</td>\n",
       "      <td>-0.32797</td>\n",
       "      <td>-0.08449</td>\n",
       "      <td>-0.01575</td>\n",
       "      <td>5.00000</td>\n",
       "      <td>0.00000</td>\n",
       "    </tr>\n",
       "    <tr>\n",
       "      <th>50%</th>\n",
       "      <td>4563.50000</td>\n",
       "      <td>-0.37280</td>\n",
       "      <td>0.28852</td>\n",
       "      <td>0.94436</td>\n",
       "      <td>0.21986</td>\n",
       "      <td>-0.15277</td>\n",
       "      <td>-0.15257</td>\n",
       "      <td>-0.05559</td>\n",
       "      <td>0.01287</td>\n",
       "      <td>0.80528</td>\n",
       "      <td>-0.34072</td>\n",
       "      <td>0.74675</td>\n",
       "      <td>-1.62101</td>\n",
       "      <td>0.91913</td>\n",
       "      <td>0.89979</td>\n",
       "      <td>-0.01008</td>\n",
       "      <td>0.06609</td>\n",
       "      <td>0.29742</td>\n",
       "      <td>0.02522</td>\n",
       "      <td>-0.07721</td>\n",
       "      <td>-0.02142</td>\n",
       "      <td>-0.12327</td>\n",
       "      <td>-0.13675</td>\n",
       "      <td>-0.04579</td>\n",
       "      <td>0.07998</td>\n",
       "      <td>0.12100</td>\n",
       "      <td>0.04286</td>\n",
       "      <td>-0.00457</td>\n",
       "      <td>0.01590</td>\n",
       "      <td>15.95000</td>\n",
       "      <td>0.00000</td>\n",
       "    </tr>\n",
       "    <tr>\n",
       "      <th>75%</th>\n",
       "      <td>10233.25000</td>\n",
       "      <td>1.15086</td>\n",
       "      <td>0.90188</td>\n",
       "      <td>1.60290</td>\n",
       "      <td>1.12567</td>\n",
       "      <td>0.37108</td>\n",
       "      <td>0.50536</td>\n",
       "      <td>0.47628</td>\n",
       "      <td>0.27453</td>\n",
       "      <td>1.50630</td>\n",
       "      <td>0.17430</td>\n",
       "      <td>1.57654</td>\n",
       "      <td>0.08267</td>\n",
       "      <td>1.76889</td>\n",
       "      <td>1.49921</td>\n",
       "      <td>0.53350</td>\n",
       "      <td>0.54740</td>\n",
       "      <td>0.78286</td>\n",
       "      <td>0.45939</td>\n",
       "      <td>0.44291</td>\n",
       "      <td>0.15653</td>\n",
       "      <td>0.03271</td>\n",
       "      <td>0.24749</td>\n",
       "      <td>0.08167</td>\n",
       "      <td>0.41088</td>\n",
       "      <td>0.35906</td>\n",
       "      <td>0.47639</td>\n",
       "      <td>0.12081</td>\n",
       "      <td>0.07718</td>\n",
       "      <td>50.96000</td>\n",
       "      <td>0.00000</td>\n",
       "    </tr>\n",
       "    <tr>\n",
       "      <th>max</th>\n",
       "      <td>15012.00000</td>\n",
       "      <td>1.96050</td>\n",
       "      <td>8.63621</td>\n",
       "      <td>4.10172</td>\n",
       "      <td>10.46302</td>\n",
       "      <td>34.09931</td>\n",
       "      <td>21.39307</td>\n",
       "      <td>34.30318</td>\n",
       "      <td>5.06038</td>\n",
       "      <td>10.39289</td>\n",
       "      <td>12.25995</td>\n",
       "      <td>12.01891</td>\n",
       "      <td>3.77484</td>\n",
       "      <td>4.46541</td>\n",
       "      <td>5.74873</td>\n",
       "      <td>3.63504</td>\n",
       "      <td>4.08780</td>\n",
       "      <td>7.89339</td>\n",
       "      <td>4.11556</td>\n",
       "      <td>4.55536</td>\n",
       "      <td>8.01257</td>\n",
       "      <td>22.58899</td>\n",
       "      <td>4.53445</td>\n",
       "      <td>13.87622</td>\n",
       "      <td>3.20020</td>\n",
       "      <td>5.52509</td>\n",
       "      <td>3.51735</td>\n",
       "      <td>8.25438</td>\n",
       "      <td>4.86077</td>\n",
       "      <td>7712.43000</td>\n",
       "      <td>1.00000</td>\n",
       "    </tr>\n",
       "  </tbody>\n",
       "</table>\n",
       "</div>"
      ],
      "text/plain": [
       "             Time          V1          V2          V3          V4          V5  \\\n",
       "count 10000.00000 10000.00000 10000.00000 10000.00000 10000.00000 10000.00000   \n",
       "mean   5966.03340    -0.24186     0.28195     0.90627     0.26415    -0.04640   \n",
       "std    4473.40374     1.52168     1.30814     1.15915     1.44123     1.18294   \n",
       "min       0.00000   -27.67057   -34.60765   -15.49622    -4.65755   -32.09213   \n",
       "25%    2072.75000    -1.01328    -0.20834     0.41280    -0.61442    -0.64339   \n",
       "50%    4563.50000    -0.37280     0.28852     0.94436     0.21986    -0.15277   \n",
       "75%   10233.25000     1.15086     0.90188     1.60290     1.12567     0.37108   \n",
       "max   15012.00000     1.96050     8.63621     4.10172    10.46302    34.09931   \n",
       "\n",
       "               V6          V7          V8          V9         V10         V11  \\\n",
       "count 10000.00000 10000.00000 10000.00000 10000.00000 10000.00000 10000.00000   \n",
       "mean      0.13311    -0.07169    -0.06478     0.80222    -0.22300     0.76607   \n",
       "std       1.30731     1.07743     1.25906     1.15520     1.09355     1.16860   \n",
       "min     -23.49671   -26.54814   -23.63250    -6.32980   -13.19342    -2.59533   \n",
       "25%      -0.62993    -0.54234    -0.19075     0.07087    -0.68842    -0.06369   \n",
       "50%      -0.15257    -0.05559     0.01287     0.80528    -0.34072     0.74675   \n",
       "75%       0.50536     0.47628     0.27453     1.50630     0.17430     1.57654   \n",
       "max      21.39307    34.30318     5.06038    10.39289    12.25995    12.01891   \n",
       "\n",
       "              V12         V13         V14         V15         V16         V17  \\\n",
       "count 10000.00000 10000.00000 10000.00000 10000.00000 10000.00000 10000.00000   \n",
       "mean     -1.27251     0.85141     0.70060    -0.12963    -0.00776     0.31899   \n",
       "std       1.52766     1.21305     1.23929     0.97557     0.88206     0.96639   \n",
       "min     -17.76914    -3.38951   -19.21433    -4.15253   -12.22719   -18.58737   \n",
       "25%      -2.36811    -0.01798     0.08040    -0.70953    -0.49554    -0.18003   \n",
       "50%      -1.62101     0.91913     0.89979    -0.01008     0.06609     0.29742   \n",
       "75%       0.08267     1.76889     1.49921     0.53350     0.54740     0.78286   \n",
       "max       3.77484     4.46541     5.74873     3.63504     4.08780     7.89339   \n",
       "\n",
       "              V18         V19         V20         V21         V22         V23  \\\n",
       "count 10000.00000 10000.00000 10000.00000 10000.00000 10000.00000 10000.00000   \n",
       "mean     -0.01607    -0.07042     0.02751    -0.05199    -0.15267    -0.03327   \n",
       "std       0.79426     0.80837     0.58999     0.91381     0.63108     0.48781   \n",
       "min      -6.92076    -4.93273   -13.27603   -11.46843    -8.52714   -15.14434   \n",
       "25%      -0.45030    -0.55213    -0.14998    -0.26812    -0.54964    -0.17412   \n",
       "50%       0.02522    -0.07721    -0.02142    -0.12327    -0.13675    -0.04579   \n",
       "75%       0.45939     0.44291     0.15653     0.03271     0.24749     0.08167   \n",
       "max       4.11556     4.55536     8.01257    22.58899     4.53445    13.87622   \n",
       "\n",
       "              V24         V25         V26         V27         V28      Amount  \\\n",
       "count 10000.00000 10000.00000 10000.00000 10000.00000 10000.00000 10000.00000   \n",
       "mean      0.02133     0.08715     0.10814     0.00552     0.00291    63.03019   \n",
       "std       0.59443     0.42817     0.56279     0.41087     0.26625   184.48616   \n",
       "min      -2.51238    -2.57736    -1.33856    -7.97610    -3.50925     0.00000   \n",
       "25%      -0.32782    -0.15814    -0.32797    -0.08449    -0.01575     5.00000   \n",
       "50%       0.07998     0.12100     0.04286    -0.00457     0.01590    15.95000   \n",
       "75%       0.41088     0.35906     0.47639     0.12081     0.07718    50.96000   \n",
       "max       3.20020     5.52509     3.51735     8.25438     4.86077  7712.43000   \n",
       "\n",
       "            Class  \n",
       "count 10000.00000  \n",
       "mean      0.00380  \n",
       "std       0.06153  \n",
       "min       0.00000  \n",
       "25%       0.00000  \n",
       "50%       0.00000  \n",
       "75%       0.00000  \n",
       "max       1.00000  "
      ]
     },
     "execution_count": 8,
     "metadata": {},
     "output_type": "execute_result"
    }
   ],
   "source": [
    "fraud.describe()"
   ]
  },
  {
   "cell_type": "markdown",
   "metadata": {
    "id": "EMReycWov615"
   },
   "source": [
    "**Observation:**\n",
    "\n",
    "- The **average** value of **1000 transactions** are **5966 seconds**.\n",
    "\n",
    "- **25%** of **transactions** happened **<= 2072 seconds** while **50% and 75%** of **transactions** happened **<= 4563 seconds** and **<= 10233 seconds**.\n",
    "\n",
    "- The **average amount** of **transaction** performed by credit card holder is **$\\$$ 63**.\n",
    "\n",
    "- **25%** of **transactions extracted $\\$$ 5** while **50% and 75%** of **transactions extracted $\\$$ 15.9** and **$\\$$ 50**."
   ]
  },
  {
   "cell_type": "markdown",
   "metadata": {
    "_cell_guid": "6c7d2500-95b1-4057-98f7-39100e8a6d7f",
    "_uuid": "13fd8422db7a1ceae9ebb002df452e8293a9ab0c",
    "id": "ZJmlNMKDl1bm"
   },
   "source": [
    "---\n",
    "# **Data Pre-Processing**\n",
    "---"
   ]
  },
  {
   "cell_type": "markdown",
   "metadata": {
    "id": "fqapaxcN6W1q"
   },
   "source": [
    "### **Pre-Profiling Report**\n",
    "\n",
    "- For **quick analysis** pandas profiling is very handy.\n",
    "\n",
    "- Generates profile reports from a pandas DataFrame.\n",
    "\n",
    "- For each column **statistics** are presented in an interactive HTML report."
   ]
  },
  {
   "cell_type": "code",
   "execution_count": null,
   "metadata": {
    "id": "rnDdpF3q6Ydi"
   },
   "outputs": [],
   "source": [
    "profile = ProfileReport(df = fraud)\n",
    "profile.to_file(output_file = 'Pre Profiling Report.html')\n",
    "print('Accomplished!')"
   ]
  },
  {
   "cell_type": "markdown",
   "metadata": {
    "id": "XHYLTEbrBnjD"
   },
   "source": [
    "**Observation:**\n",
    "\n",
    "- Report show that there are **31 features** out of which **30 are numerical** and **one is boolean**.\n",
    "\n",
    "- There is **no missing data**.\n",
    "\n",
    "- There **exists 42 duplicate rows** (0.4%).\n",
    "\n",
    "- For full details checkout the report."
   ]
  },
  {
   "cell_type": "markdown",
   "metadata": {
    "id": "SUhDPMv58toj"
   },
   "source": [
    "---\n",
    "# **Data Preparation**\n",
    "---"
   ]
  },
  {
   "cell_type": "markdown",
   "metadata": {
    "id": "v2jDIRynxFwH"
   },
   "source": [
    "**Scaling the data**\n",
    "\n",
    "- We will use **RobustScalar** to **scale *'amount'* and *'time'* features** of our data.\n",
    "\n",
    "- __RobustScalar__ is similar to normalization but it instead **uses the interquartile range, so that it is robust to outliers**.\n"
   ]
  },
  {
   "cell_type": "code",
   "execution_count": 9,
   "metadata": {
    "id": "1VecvO_pgQ7V"
   },
   "outputs": [],
   "source": [
    "# RobustScaler is less prone to outliers.\n",
    "rob_scaler = RobustScaler()\n",
    "\n",
    "fraud['scaled_amount'] = rob_scaler.fit_transform(fraud['Amount'].values.reshape(-1,1))\n",
    "fraud['scaled_time'] = rob_scaler.fit_transform(fraud['Time'].values.reshape(-1,1))\n",
    "\n",
    "fraud.drop(['Time','Amount'], axis=1, inplace=True)"
   ]
  },
  {
   "cell_type": "code",
   "execution_count": 10,
   "metadata": {
    "colab": {
     "base_uri": "https://localhost:8080/",
     "height": 215
    },
    "id": "PWucJvVFgQ7X",
    "outputId": "e0c54b56-f67c-4633-dacd-4b09ecc5031e"
   },
   "outputs": [
    {
     "data": {
      "text/html": [
       "<div>\n",
       "<style scoped>\n",
       "    .dataframe tbody tr th:only-of-type {\n",
       "        vertical-align: middle;\n",
       "    }\n",
       "\n",
       "    .dataframe tbody tr th {\n",
       "        vertical-align: top;\n",
       "    }\n",
       "\n",
       "    .dataframe thead th {\n",
       "        text-align: right;\n",
       "    }\n",
       "</style>\n",
       "<table border=\"1\" class=\"dataframe\">\n",
       "  <thead>\n",
       "    <tr style=\"text-align: right;\">\n",
       "      <th></th>\n",
       "      <th>scaled_amount</th>\n",
       "      <th>scaled_time</th>\n",
       "      <th>V1</th>\n",
       "      <th>V2</th>\n",
       "      <th>V3</th>\n",
       "      <th>V4</th>\n",
       "      <th>V5</th>\n",
       "      <th>V6</th>\n",
       "      <th>V7</th>\n",
       "      <th>V8</th>\n",
       "      <th>V9</th>\n",
       "      <th>V10</th>\n",
       "      <th>V11</th>\n",
       "      <th>V12</th>\n",
       "      <th>V13</th>\n",
       "      <th>V14</th>\n",
       "      <th>V15</th>\n",
       "      <th>V16</th>\n",
       "      <th>V17</th>\n",
       "      <th>V18</th>\n",
       "      <th>V19</th>\n",
       "      <th>V20</th>\n",
       "      <th>V21</th>\n",
       "      <th>V22</th>\n",
       "      <th>V23</th>\n",
       "      <th>V24</th>\n",
       "      <th>V25</th>\n",
       "      <th>V26</th>\n",
       "      <th>V27</th>\n",
       "      <th>V28</th>\n",
       "      <th>Class</th>\n",
       "    </tr>\n",
       "  </thead>\n",
       "  <tbody>\n",
       "    <tr>\n",
       "      <th>0</th>\n",
       "      <td>2.90840</td>\n",
       "      <td>-0.55922</td>\n",
       "      <td>-1.35981</td>\n",
       "      <td>-0.07278</td>\n",
       "      <td>2.53635</td>\n",
       "      <td>1.37816</td>\n",
       "      <td>-0.33832</td>\n",
       "      <td>0.46239</td>\n",
       "      <td>0.23960</td>\n",
       "      <td>0.09870</td>\n",
       "      <td>0.36379</td>\n",
       "      <td>0.09079</td>\n",
       "      <td>-0.55160</td>\n",
       "      <td>-0.61780</td>\n",
       "      <td>-0.99139</td>\n",
       "      <td>-0.31117</td>\n",
       "      <td>1.46818</td>\n",
       "      <td>-0.47040</td>\n",
       "      <td>0.20797</td>\n",
       "      <td>0.02579</td>\n",
       "      <td>0.40399</td>\n",
       "      <td>0.25141</td>\n",
       "      <td>-0.01831</td>\n",
       "      <td>0.27784</td>\n",
       "      <td>-0.11047</td>\n",
       "      <td>0.06693</td>\n",
       "      <td>0.12854</td>\n",
       "      <td>-0.18911</td>\n",
       "      <td>0.13356</td>\n",
       "      <td>-0.02105</td>\n",
       "      <td>0</td>\n",
       "    </tr>\n",
       "    <tr>\n",
       "      <th>1</th>\n",
       "      <td>-0.28851</td>\n",
       "      <td>-0.55922</td>\n",
       "      <td>1.19186</td>\n",
       "      <td>0.26615</td>\n",
       "      <td>0.16648</td>\n",
       "      <td>0.44815</td>\n",
       "      <td>0.06002</td>\n",
       "      <td>-0.08236</td>\n",
       "      <td>-0.07880</td>\n",
       "      <td>0.08510</td>\n",
       "      <td>-0.25543</td>\n",
       "      <td>-0.16697</td>\n",
       "      <td>1.61273</td>\n",
       "      <td>1.06524</td>\n",
       "      <td>0.48910</td>\n",
       "      <td>-0.14377</td>\n",
       "      <td>0.63556</td>\n",
       "      <td>0.46392</td>\n",
       "      <td>-0.11480</td>\n",
       "      <td>-0.18336</td>\n",
       "      <td>-0.14578</td>\n",
       "      <td>-0.06908</td>\n",
       "      <td>-0.22578</td>\n",
       "      <td>-0.63867</td>\n",
       "      <td>0.10129</td>\n",
       "      <td>-0.33985</td>\n",
       "      <td>0.16717</td>\n",
       "      <td>0.12589</td>\n",
       "      <td>-0.00898</td>\n",
       "      <td>0.01472</td>\n",
       "      <td>0</td>\n",
       "    </tr>\n",
       "    <tr>\n",
       "      <th>2</th>\n",
       "      <td>7.89186</td>\n",
       "      <td>-0.55910</td>\n",
       "      <td>-1.35835</td>\n",
       "      <td>-1.34016</td>\n",
       "      <td>1.77321</td>\n",
       "      <td>0.37978</td>\n",
       "      <td>-0.50320</td>\n",
       "      <td>1.80050</td>\n",
       "      <td>0.79146</td>\n",
       "      <td>0.24768</td>\n",
       "      <td>-1.51465</td>\n",
       "      <td>0.20764</td>\n",
       "      <td>0.62450</td>\n",
       "      <td>0.06608</td>\n",
       "      <td>0.71729</td>\n",
       "      <td>-0.16595</td>\n",
       "      <td>2.34586</td>\n",
       "      <td>-2.89008</td>\n",
       "      <td>1.10997</td>\n",
       "      <td>-0.12136</td>\n",
       "      <td>-2.26186</td>\n",
       "      <td>0.52498</td>\n",
       "      <td>0.24800</td>\n",
       "      <td>0.77168</td>\n",
       "      <td>0.90941</td>\n",
       "      <td>-0.68928</td>\n",
       "      <td>-0.32764</td>\n",
       "      <td>-0.13910</td>\n",
       "      <td>-0.05535</td>\n",
       "      <td>-0.05975</td>\n",
       "      <td>0</td>\n",
       "    </tr>\n",
       "    <tr>\n",
       "      <th>3</th>\n",
       "      <td>2.34008</td>\n",
       "      <td>-0.55910</td>\n",
       "      <td>-0.96627</td>\n",
       "      <td>-0.18523</td>\n",
       "      <td>1.79299</td>\n",
       "      <td>-0.86329</td>\n",
       "      <td>-0.01031</td>\n",
       "      <td>1.24720</td>\n",
       "      <td>0.23761</td>\n",
       "      <td>0.37744</td>\n",
       "      <td>-1.38702</td>\n",
       "      <td>-0.05495</td>\n",
       "      <td>-0.22649</td>\n",
       "      <td>0.17823</td>\n",
       "      <td>0.50776</td>\n",
       "      <td>-0.28792</td>\n",
       "      <td>-0.63142</td>\n",
       "      <td>-1.05965</td>\n",
       "      <td>-0.68409</td>\n",
       "      <td>1.96578</td>\n",
       "      <td>-1.23262</td>\n",
       "      <td>-0.20804</td>\n",
       "      <td>-0.10830</td>\n",
       "      <td>0.00527</td>\n",
       "      <td>-0.19032</td>\n",
       "      <td>-1.17558</td>\n",
       "      <td>0.64738</td>\n",
       "      <td>-0.22193</td>\n",
       "      <td>0.06272</td>\n",
       "      <td>0.06146</td>\n",
       "      <td>0</td>\n",
       "    </tr>\n",
       "    <tr>\n",
       "      <th>4</th>\n",
       "      <td>1.17581</td>\n",
       "      <td>-0.55897</td>\n",
       "      <td>-1.15823</td>\n",
       "      <td>0.87774</td>\n",
       "      <td>1.54872</td>\n",
       "      <td>0.40303</td>\n",
       "      <td>-0.40719</td>\n",
       "      <td>0.09592</td>\n",
       "      <td>0.59294</td>\n",
       "      <td>-0.27053</td>\n",
       "      <td>0.81774</td>\n",
       "      <td>0.75307</td>\n",
       "      <td>-0.82284</td>\n",
       "      <td>0.53820</td>\n",
       "      <td>1.34585</td>\n",
       "      <td>-1.11967</td>\n",
       "      <td>0.17512</td>\n",
       "      <td>-0.45145</td>\n",
       "      <td>-0.23703</td>\n",
       "      <td>-0.03819</td>\n",
       "      <td>0.80349</td>\n",
       "      <td>0.40854</td>\n",
       "      <td>-0.00943</td>\n",
       "      <td>0.79828</td>\n",
       "      <td>-0.13746</td>\n",
       "      <td>0.14127</td>\n",
       "      <td>-0.20601</td>\n",
       "      <td>0.50229</td>\n",
       "      <td>0.21942</td>\n",
       "      <td>0.21515</td>\n",
       "      <td>0</td>\n",
       "    </tr>\n",
       "  </tbody>\n",
       "</table>\n",
       "</div>"
      ],
      "text/plain": [
       "   scaled_amount  scaled_time       V1       V2      V3       V4       V5  \\\n",
       "0        2.90840     -0.55922 -1.35981 -0.07278 2.53635  1.37816 -0.33832   \n",
       "1       -0.28851     -0.55922  1.19186  0.26615 0.16648  0.44815  0.06002   \n",
       "2        7.89186     -0.55910 -1.35835 -1.34016 1.77321  0.37978 -0.50320   \n",
       "3        2.34008     -0.55910 -0.96627 -0.18523 1.79299 -0.86329 -0.01031   \n",
       "4        1.17581     -0.55897 -1.15823  0.87774 1.54872  0.40303 -0.40719   \n",
       "\n",
       "        V6       V7       V8       V9      V10      V11      V12      V13  \\\n",
       "0  0.46239  0.23960  0.09870  0.36379  0.09079 -0.55160 -0.61780 -0.99139   \n",
       "1 -0.08236 -0.07880  0.08510 -0.25543 -0.16697  1.61273  1.06524  0.48910   \n",
       "2  1.80050  0.79146  0.24768 -1.51465  0.20764  0.62450  0.06608  0.71729   \n",
       "3  1.24720  0.23761  0.37744 -1.38702 -0.05495 -0.22649  0.17823  0.50776   \n",
       "4  0.09592  0.59294 -0.27053  0.81774  0.75307 -0.82284  0.53820  1.34585   \n",
       "\n",
       "       V14      V15      V16      V17      V18      V19      V20      V21  \\\n",
       "0 -0.31117  1.46818 -0.47040  0.20797  0.02579  0.40399  0.25141 -0.01831   \n",
       "1 -0.14377  0.63556  0.46392 -0.11480 -0.18336 -0.14578 -0.06908 -0.22578   \n",
       "2 -0.16595  2.34586 -2.89008  1.10997 -0.12136 -2.26186  0.52498  0.24800   \n",
       "3 -0.28792 -0.63142 -1.05965 -0.68409  1.96578 -1.23262 -0.20804 -0.10830   \n",
       "4 -1.11967  0.17512 -0.45145 -0.23703 -0.03819  0.80349  0.40854 -0.00943   \n",
       "\n",
       "       V22      V23      V24      V25      V26      V27      V28  Class  \n",
       "0  0.27784 -0.11047  0.06693  0.12854 -0.18911  0.13356 -0.02105      0  \n",
       "1 -0.63867  0.10129 -0.33985  0.16717  0.12589 -0.00898  0.01472      0  \n",
       "2  0.77168  0.90941 -0.68928 -0.32764 -0.13910 -0.05535 -0.05975      0  \n",
       "3  0.00527 -0.19032 -1.17558  0.64738 -0.22193  0.06272  0.06146      0  \n",
       "4  0.79828 -0.13746  0.14127 -0.20601  0.50229  0.21942  0.21515      0  "
      ]
     },
     "execution_count": 10,
     "metadata": {},
     "output_type": "execute_result"
    }
   ],
   "source": [
    "scaled_amount = fraud['scaled_amount']\n",
    "scaled_time = fraud['scaled_time']\n",
    "\n",
    "fraud.drop(['scaled_amount', 'scaled_time'], axis=1, inplace=True)\n",
    "fraud.insert(0, 'scaled_amount', scaled_amount)\n",
    "fraud.insert(1, 'scaled_time', scaled_time)\n",
    "\n",
    "# Amount and Time are Scaled!\n",
    "\n",
    "fraud.head()"
   ]
  },
  {
   "cell_type": "markdown",
   "metadata": {
    "id": "PfVN_Cyf81wh"
   },
   "source": [
    "**Preparing x and y using pandas**"
   ]
  },
  {
   "cell_type": "code",
   "execution_count": 11,
   "metadata": {
    "colab": {
     "base_uri": "https://localhost:8080/",
     "height": 215
    },
    "id": "rPv84x0G81cL",
    "outputId": "4253790c-c05b-4e67-f79b-38bc8dd18d41"
   },
   "outputs": [
    {
     "data": {
      "text/html": [
       "<div>\n",
       "<style scoped>\n",
       "    .dataframe tbody tr th:only-of-type {\n",
       "        vertical-align: middle;\n",
       "    }\n",
       "\n",
       "    .dataframe tbody tr th {\n",
       "        vertical-align: top;\n",
       "    }\n",
       "\n",
       "    .dataframe thead th {\n",
       "        text-align: right;\n",
       "    }\n",
       "</style>\n",
       "<table border=\"1\" class=\"dataframe\">\n",
       "  <thead>\n",
       "    <tr style=\"text-align: right;\">\n",
       "      <th></th>\n",
       "      <th>scaled_amount</th>\n",
       "      <th>scaled_time</th>\n",
       "      <th>V1</th>\n",
       "      <th>V2</th>\n",
       "      <th>V3</th>\n",
       "      <th>V4</th>\n",
       "      <th>V5</th>\n",
       "      <th>V6</th>\n",
       "      <th>V7</th>\n",
       "      <th>V8</th>\n",
       "      <th>V9</th>\n",
       "      <th>V10</th>\n",
       "      <th>V11</th>\n",
       "      <th>V12</th>\n",
       "      <th>V13</th>\n",
       "      <th>V14</th>\n",
       "      <th>V15</th>\n",
       "      <th>V16</th>\n",
       "      <th>V17</th>\n",
       "      <th>V18</th>\n",
       "      <th>V19</th>\n",
       "      <th>V20</th>\n",
       "      <th>V21</th>\n",
       "      <th>V22</th>\n",
       "      <th>V23</th>\n",
       "      <th>V24</th>\n",
       "      <th>V25</th>\n",
       "      <th>V26</th>\n",
       "      <th>V27</th>\n",
       "      <th>V28</th>\n",
       "    </tr>\n",
       "  </thead>\n",
       "  <tbody>\n",
       "    <tr>\n",
       "      <th>0</th>\n",
       "      <td>2.90840</td>\n",
       "      <td>-0.55922</td>\n",
       "      <td>-1.35981</td>\n",
       "      <td>-0.07278</td>\n",
       "      <td>2.53635</td>\n",
       "      <td>1.37816</td>\n",
       "      <td>-0.33832</td>\n",
       "      <td>0.46239</td>\n",
       "      <td>0.23960</td>\n",
       "      <td>0.09870</td>\n",
       "      <td>0.36379</td>\n",
       "      <td>0.09079</td>\n",
       "      <td>-0.55160</td>\n",
       "      <td>-0.61780</td>\n",
       "      <td>-0.99139</td>\n",
       "      <td>-0.31117</td>\n",
       "      <td>1.46818</td>\n",
       "      <td>-0.47040</td>\n",
       "      <td>0.20797</td>\n",
       "      <td>0.02579</td>\n",
       "      <td>0.40399</td>\n",
       "      <td>0.25141</td>\n",
       "      <td>-0.01831</td>\n",
       "      <td>0.27784</td>\n",
       "      <td>-0.11047</td>\n",
       "      <td>0.06693</td>\n",
       "      <td>0.12854</td>\n",
       "      <td>-0.18911</td>\n",
       "      <td>0.13356</td>\n",
       "      <td>-0.02105</td>\n",
       "    </tr>\n",
       "    <tr>\n",
       "      <th>1</th>\n",
       "      <td>-0.28851</td>\n",
       "      <td>-0.55922</td>\n",
       "      <td>1.19186</td>\n",
       "      <td>0.26615</td>\n",
       "      <td>0.16648</td>\n",
       "      <td>0.44815</td>\n",
       "      <td>0.06002</td>\n",
       "      <td>-0.08236</td>\n",
       "      <td>-0.07880</td>\n",
       "      <td>0.08510</td>\n",
       "      <td>-0.25543</td>\n",
       "      <td>-0.16697</td>\n",
       "      <td>1.61273</td>\n",
       "      <td>1.06524</td>\n",
       "      <td>0.48910</td>\n",
       "      <td>-0.14377</td>\n",
       "      <td>0.63556</td>\n",
       "      <td>0.46392</td>\n",
       "      <td>-0.11480</td>\n",
       "      <td>-0.18336</td>\n",
       "      <td>-0.14578</td>\n",
       "      <td>-0.06908</td>\n",
       "      <td>-0.22578</td>\n",
       "      <td>-0.63867</td>\n",
       "      <td>0.10129</td>\n",
       "      <td>-0.33985</td>\n",
       "      <td>0.16717</td>\n",
       "      <td>0.12589</td>\n",
       "      <td>-0.00898</td>\n",
       "      <td>0.01472</td>\n",
       "    </tr>\n",
       "    <tr>\n",
       "      <th>2</th>\n",
       "      <td>7.89186</td>\n",
       "      <td>-0.55910</td>\n",
       "      <td>-1.35835</td>\n",
       "      <td>-1.34016</td>\n",
       "      <td>1.77321</td>\n",
       "      <td>0.37978</td>\n",
       "      <td>-0.50320</td>\n",
       "      <td>1.80050</td>\n",
       "      <td>0.79146</td>\n",
       "      <td>0.24768</td>\n",
       "      <td>-1.51465</td>\n",
       "      <td>0.20764</td>\n",
       "      <td>0.62450</td>\n",
       "      <td>0.06608</td>\n",
       "      <td>0.71729</td>\n",
       "      <td>-0.16595</td>\n",
       "      <td>2.34586</td>\n",
       "      <td>-2.89008</td>\n",
       "      <td>1.10997</td>\n",
       "      <td>-0.12136</td>\n",
       "      <td>-2.26186</td>\n",
       "      <td>0.52498</td>\n",
       "      <td>0.24800</td>\n",
       "      <td>0.77168</td>\n",
       "      <td>0.90941</td>\n",
       "      <td>-0.68928</td>\n",
       "      <td>-0.32764</td>\n",
       "      <td>-0.13910</td>\n",
       "      <td>-0.05535</td>\n",
       "      <td>-0.05975</td>\n",
       "    </tr>\n",
       "    <tr>\n",
       "      <th>3</th>\n",
       "      <td>2.34008</td>\n",
       "      <td>-0.55910</td>\n",
       "      <td>-0.96627</td>\n",
       "      <td>-0.18523</td>\n",
       "      <td>1.79299</td>\n",
       "      <td>-0.86329</td>\n",
       "      <td>-0.01031</td>\n",
       "      <td>1.24720</td>\n",
       "      <td>0.23761</td>\n",
       "      <td>0.37744</td>\n",
       "      <td>-1.38702</td>\n",
       "      <td>-0.05495</td>\n",
       "      <td>-0.22649</td>\n",
       "      <td>0.17823</td>\n",
       "      <td>0.50776</td>\n",
       "      <td>-0.28792</td>\n",
       "      <td>-0.63142</td>\n",
       "      <td>-1.05965</td>\n",
       "      <td>-0.68409</td>\n",
       "      <td>1.96578</td>\n",
       "      <td>-1.23262</td>\n",
       "      <td>-0.20804</td>\n",
       "      <td>-0.10830</td>\n",
       "      <td>0.00527</td>\n",
       "      <td>-0.19032</td>\n",
       "      <td>-1.17558</td>\n",
       "      <td>0.64738</td>\n",
       "      <td>-0.22193</td>\n",
       "      <td>0.06272</td>\n",
       "      <td>0.06146</td>\n",
       "    </tr>\n",
       "    <tr>\n",
       "      <th>4</th>\n",
       "      <td>1.17581</td>\n",
       "      <td>-0.55897</td>\n",
       "      <td>-1.15823</td>\n",
       "      <td>0.87774</td>\n",
       "      <td>1.54872</td>\n",
       "      <td>0.40303</td>\n",
       "      <td>-0.40719</td>\n",
       "      <td>0.09592</td>\n",
       "      <td>0.59294</td>\n",
       "      <td>-0.27053</td>\n",
       "      <td>0.81774</td>\n",
       "      <td>0.75307</td>\n",
       "      <td>-0.82284</td>\n",
       "      <td>0.53820</td>\n",
       "      <td>1.34585</td>\n",
       "      <td>-1.11967</td>\n",
       "      <td>0.17512</td>\n",
       "      <td>-0.45145</td>\n",
       "      <td>-0.23703</td>\n",
       "      <td>-0.03819</td>\n",
       "      <td>0.80349</td>\n",
       "      <td>0.40854</td>\n",
       "      <td>-0.00943</td>\n",
       "      <td>0.79828</td>\n",
       "      <td>-0.13746</td>\n",
       "      <td>0.14127</td>\n",
       "      <td>-0.20601</td>\n",
       "      <td>0.50229</td>\n",
       "      <td>0.21942</td>\n",
       "      <td>0.21515</td>\n",
       "    </tr>\n",
       "  </tbody>\n",
       "</table>\n",
       "</div>"
      ],
      "text/plain": [
       "   scaled_amount  scaled_time       V1       V2      V3       V4       V5  \\\n",
       "0        2.90840     -0.55922 -1.35981 -0.07278 2.53635  1.37816 -0.33832   \n",
       "1       -0.28851     -0.55922  1.19186  0.26615 0.16648  0.44815  0.06002   \n",
       "2        7.89186     -0.55910 -1.35835 -1.34016 1.77321  0.37978 -0.50320   \n",
       "3        2.34008     -0.55910 -0.96627 -0.18523 1.79299 -0.86329 -0.01031   \n",
       "4        1.17581     -0.55897 -1.15823  0.87774 1.54872  0.40303 -0.40719   \n",
       "\n",
       "        V6       V7       V8       V9      V10      V11      V12      V13  \\\n",
       "0  0.46239  0.23960  0.09870  0.36379  0.09079 -0.55160 -0.61780 -0.99139   \n",
       "1 -0.08236 -0.07880  0.08510 -0.25543 -0.16697  1.61273  1.06524  0.48910   \n",
       "2  1.80050  0.79146  0.24768 -1.51465  0.20764  0.62450  0.06608  0.71729   \n",
       "3  1.24720  0.23761  0.37744 -1.38702 -0.05495 -0.22649  0.17823  0.50776   \n",
       "4  0.09592  0.59294 -0.27053  0.81774  0.75307 -0.82284  0.53820  1.34585   \n",
       "\n",
       "       V14      V15      V16      V17      V18      V19      V20      V21  \\\n",
       "0 -0.31117  1.46818 -0.47040  0.20797  0.02579  0.40399  0.25141 -0.01831   \n",
       "1 -0.14377  0.63556  0.46392 -0.11480 -0.18336 -0.14578 -0.06908 -0.22578   \n",
       "2 -0.16595  2.34586 -2.89008  1.10997 -0.12136 -2.26186  0.52498  0.24800   \n",
       "3 -0.28792 -0.63142 -1.05965 -0.68409  1.96578 -1.23262 -0.20804 -0.10830   \n",
       "4 -1.11967  0.17512 -0.45145 -0.23703 -0.03819  0.80349  0.40854 -0.00943   \n",
       "\n",
       "       V22      V23      V24      V25      V26      V27      V28  \n",
       "0  0.27784 -0.11047  0.06693  0.12854 -0.18911  0.13356 -0.02105  \n",
       "1 -0.63867  0.10129 -0.33985  0.16717  0.12589 -0.00898  0.01472  \n",
       "2  0.77168  0.90941 -0.68928 -0.32764 -0.13910 -0.05535 -0.05975  \n",
       "3  0.00527 -0.19032 -1.17558  0.64738 -0.22193  0.06272  0.06146  \n",
       "4  0.79828 -0.13746  0.14127 -0.20601  0.50229  0.21942  0.21515  "
      ]
     },
     "execution_count": 11,
     "metadata": {},
     "output_type": "execute_result"
    }
   ],
   "source": [
    "x = fraud.drop('Class',axis = 1)\n",
    "x.head()"
   ]
  },
  {
   "cell_type": "code",
   "execution_count": 12,
   "metadata": {
    "id": "aW6_-hTf9VGD"
   },
   "outputs": [],
   "source": [
    "y = fraud['Class']"
   ]
  },
  {
   "cell_type": "markdown",
   "metadata": {
    "id": "vo8aY_-b9Z5j"
   },
   "source": [
    "**Spliting X and y into train and test dataset.**"
   ]
  },
  {
   "cell_type": "code",
   "execution_count": 13,
   "metadata": {
    "id": "EWGTbB3Y9dmJ"
   },
   "outputs": [],
   "source": [
    "X_train, X_test, y_train, y_test = train_test_split(x, y, test_size=0.25, random_state=1)"
   ]
  },
  {
   "cell_type": "markdown",
   "metadata": {
    "id": "kjYYj5Mw9kyN"
   },
   "source": [
    "**Checking the shape of X and y of train dataset**"
   ]
  },
  {
   "cell_type": "code",
   "execution_count": 14,
   "metadata": {
    "colab": {
     "base_uri": "https://localhost:8080/",
     "height": 50
    },
    "id": "0sIlpgtv9qKQ",
    "outputId": "9057db64-ac92-4b5f-c7f0-5f89e4dfc502"
   },
   "outputs": [
    {
     "name": "stdout",
     "output_type": "stream",
     "text": [
      "(7500, 30)\n",
      "(7500,)\n"
     ]
    }
   ],
   "source": [
    "print(X_train.shape)\n",
    "print(y_train.shape)"
   ]
  },
  {
   "cell_type": "markdown",
   "metadata": {
    "id": "3N9M5ls69wxB"
   },
   "source": [
    "**Checking the shape of X and y of test dataset**"
   ]
  },
  {
   "cell_type": "code",
   "execution_count": 15,
   "metadata": {
    "colab": {
     "base_uri": "https://localhost:8080/",
     "height": 50
    },
    "id": "CuUtmBDB9zLf",
    "outputId": "1bc6a8f5-8830-4715-8c1a-de6d61bae93f"
   },
   "outputs": [
    {
     "name": "stdout",
     "output_type": "stream",
     "text": [
      "(2500, 30)\n",
      "(2500,)\n"
     ]
    }
   ],
   "source": [
    "print(X_test.shape)\n",
    "print(y_test.shape)"
   ]
  },
  {
   "cell_type": "markdown",
   "metadata": {
    "id": "AMlCIP-N-OCb"
   },
   "source": [
    "\n",
    "---\n",
    "# **Model Development & Evaluation**\n",
    "---\n",
    "\n",
    "- In this section we will **develop RandomForest using input features** and **tune** our **model if required**.\n",
    "\n",
    "- Then we will **analyze the results** obtained and **make our observation**.\n",
    "\n",
    "- For **evaluation purpose** we will **focus** on **Recall score**, also we will check for **Accuracy**, **Precision**, **F1-Score**, **Roc-Auc-Curve** and **Precision-Recall Curve**.\n",
    "\n"
   ]
  },
  {
   "cell_type": "markdown",
   "metadata": {
    "id": "e-aG6a3p-Hfc"
   },
   "source": [
    "## **Random Forest - Baseline Model**"
   ]
  },
  {
   "cell_type": "code",
   "execution_count": 16,
   "metadata": {
    "colab": {
     "base_uri": "https://localhost:8080/",
     "height": 151
    },
    "id": "GvYLqO5A-EOI",
    "outputId": "ad18b497-177e-4405-d4e4-6bb0737dced6"
   },
   "outputs": [
    {
     "data": {
      "text/plain": [
       "RandomForestClassifier(random_state=0)"
      ]
     },
     "execution_count": 16,
     "metadata": {},
     "output_type": "execute_result"
    }
   ],
   "source": [
    "model = RandomForestClassifier(random_state = 0)\n",
    "\n",
    "model.fit(X_train, y_train)"
   ]
  },
  {
   "cell_type": "markdown",
   "metadata": {
    "id": "7DZuqpHh-Uim"
   },
   "source": [
    "## **Using Trained Model for Prediction**"
   ]
  },
  {
   "cell_type": "code",
   "execution_count": 17,
   "metadata": {
    "id": "H4Rwx_li-VBT"
   },
   "outputs": [],
   "source": [
    "#predicting on test data\n",
    "y_pred_test = model.predict(X_test)"
   ]
  },
  {
   "cell_type": "markdown",
   "metadata": {
    "id": "i7MZEsby-bWD"
   },
   "source": [
    "## **Random Forest Baseline Model Evaluation**"
   ]
  },
  {
   "cell_type": "markdown",
   "metadata": {
    "id": "2DU38b0y1vZw"
   },
   "source": [
    "### Checking Accuracy"
   ]
  },
  {
   "cell_type": "code",
   "execution_count": 18,
   "metadata": {
    "colab": {
     "base_uri": "https://localhost:8080/",
     "height": 34
    },
    "id": "0R1xOOTn1yiO",
    "outputId": "3f0d3d1e-9ea0-458d-93e0-34c8c1cecf80"
   },
   "outputs": [
    {
     "name": "stdout",
     "output_type": "stream",
     "text": [
      "Accuracy score for test data is: 0.9992\n"
     ]
    }
   ],
   "source": [
    "print('Accuracy score for test data is:', accuracy_score(y_test,y_pred_test))"
   ]
  },
  {
   "cell_type": "markdown",
   "metadata": {
    "id": "4R_jUZkU2uUP"
   },
   "source": [
    "### Checking Precision Score"
   ]
  },
  {
   "cell_type": "code",
   "execution_count": 19,
   "metadata": {
    "colab": {
     "base_uri": "https://localhost:8080/",
     "height": 34
    },
    "id": "ci_sy-wC2xgl",
    "outputId": "ce1847be-aa35-49d2-82e2-1599bd30ee7a"
   },
   "outputs": [
    {
     "data": {
      "text/plain": [
       "1.0"
      ]
     },
     "execution_count": 19,
     "metadata": {},
     "output_type": "execute_result"
    }
   ],
   "source": [
    "precision_score(y_test,y_pred_test)"
   ]
  },
  {
   "cell_type": "markdown",
   "metadata": {
    "id": "LlDsjVxn23w8"
   },
   "source": [
    "### Checking Recall Score"
   ]
  },
  {
   "cell_type": "code",
   "execution_count": 20,
   "metadata": {
    "colab": {
     "base_uri": "https://localhost:8080/",
     "height": 34
    },
    "id": "vHzCICg826E2",
    "outputId": "e35fabb3-31c2-4c0d-9233-85a6742b6a75"
   },
   "outputs": [
    {
     "data": {
      "text/plain": [
       "0.7142857142857143"
      ]
     },
     "execution_count": 20,
     "metadata": {},
     "output_type": "execute_result"
    }
   ],
   "source": [
    "recall_score(y_test,y_pred_test)"
   ]
  },
  {
   "cell_type": "markdown",
   "metadata": {
    "id": "72O_xcEZ4f8_"
   },
   "source": [
    "### Checking F1-Score\n",
    "\n",
    "- The F measure (F1 score or F score) is a **measure of a test’s accuracy** and is defined as **the weighted harmonic mean of the precision and recall of the test**.\n",
    "- The F score can **provide a more realistic measure of a test’s performance** by **using both precision and recall**. \n",
    "- The F score is often **used in information retrieval** for measuring search, **document classification**, and **query classification performance**.\n"
   ]
  },
  {
   "cell_type": "code",
   "execution_count": 21,
   "metadata": {
    "colab": {
     "base_uri": "https://localhost:8080/",
     "height": 34
    },
    "id": "TEj1WyF54fpQ",
    "outputId": "3161d7fe-b142-4ea1-a6d1-d4b3ce875bc3"
   },
   "outputs": [
    {
     "data": {
      "text/plain": [
       "0.8333333333333333"
      ]
     },
     "execution_count": 21,
     "metadata": {},
     "output_type": "execute_result"
    }
   ],
   "source": [
    "f1_score(y_test,y_pred_test)"
   ]
  },
  {
   "cell_type": "markdown",
   "metadata": {
    "id": "Tpe9pI1C3BXB"
   },
   "source": [
    "### Checking ROC-AUC Curve and Precision-Recall Curve"
   ]
  },
  {
   "cell_type": "markdown",
   "metadata": {
    "id": "O-Vp8BUhDCXx"
   },
   "source": [
    "- ROC curve should not be used for **imbalanced data** as that can **interpret wrong result**. *If the model is performing good on the imbalanced data we should use precision-recall curve*.\n",
    "\n",
    "- Because the **False Positive Rate ( False Positives / False Positives + True Negatives )** does **not drop drastically when the Total Real Negatives is huge**. \n",
    "\n",
    "- Whereas **Precision ( True Positives / (True Positives + False Positives) )** is **highly sensitive to False Positives and is not impacted by a large total real negative**."
   ]
  },
  {
   "cell_type": "code",
   "execution_count": 22,
   "metadata": {
    "colab": {
     "base_uri": "https://localhost:8080/",
     "height": 405
    },
    "id": "RThuSOBm3Acl",
    "outputId": "8db48796-d7a0-4499-b486-134ec0e6aa98"
   },
   "outputs": [
    {
     "data": {
      "text/plain": [
       "Text(0.5, 0, 'Recall')"
      ]
     },
     "execution_count": 22,
     "metadata": {},
     "output_type": "execute_result"
    },
    {
     "data": {
      "image/png": "[encoded data removed]",
      "text/plain": [
       "<Figure size 1440x432 with 2 Axes>"
      ]
     },
     "metadata": {
      "needs_background": "light"
     },
     "output_type": "display_data"
    }
   ],
   "source": [
    "fpr_log,tpr_log,thres_log = roc_curve(y_test,y_pred_test)\n",
    "log_precision, log_recall, log_thres = precision_recall_curve(y_test, y_pred_test)\n",
    "\n",
    "\n",
    "fig, ax = plt.subplots(1,2,figsize=(20,6))\n",
    "ax[0].plot(fpr_log,tpr_log)\n",
    "ax[0].plot([0, 1], ls=\"--\")\n",
    "ax[0].plot([0, 0], [1, 0] , c=\".7\")\n",
    "ax[0].plot([1, 1] , c=\".7\")\n",
    "ax[0].set_ylabel('True Positive Rate')\n",
    "ax[0].set_xlabel('False Positive Rate')\n",
    "\n",
    "\n",
    "ax[1].plot(log_recall,log_precision)\n",
    "ax[1].plot([0, 1], ls=\"--\")\n",
    "ax[1].plot([0, 0], [1, 0] , c=\".7\")\n",
    "ax[1].plot([1, 1] , c=\".7\")\n",
    "ax[1].set_ylabel('Precision')\n",
    "ax[1].set_xlabel('Recall')"
   ]
  },
  {
   "cell_type": "markdown",
   "metadata": {
    "id": "vQIZ27UdnVhE"
   },
   "source": [
    "**Observation:**\n",
    "\n",
    "- We can **observe** a slight difference between **ROC-AUC CURVE** and **Precision-Recall Curve**."
   ]
  },
  {
   "cell_type": "markdown",
   "metadata": {
    "id": "Hrtos_csBK8Z"
   },
   "source": [
    "## **Random Forest with RandomizedSearchCV**\n",
    "\n",
    "\n",
    "Applying __RandomizedsearchCV__ method for __exhaustive search over specified parameter values__ of estimator.<br/>\n",
    "To know more about the different parameters in random forest classifier.\n",
    "\n",
    "Below we will apply gridsearch over the following parameters:\n",
    "- criterion \n",
    "- max_depth \n",
    "- n_estimators\n",
    "- min_samples_split\n",
    "- min_samples_leaf\n",
    "\n",
    "You can change other parameters also and compare the impact of it via calculating __accuracy score & confusion matrix__"
   ]
  },
  {
   "cell_type": "code",
   "execution_count": 23,
   "metadata": {
    "id": "xaToAoOll1dA"
   },
   "outputs": [],
   "source": [
    "# parameters for RandomearchCV\n",
    "# specify parameters and distributions to sample from\n",
    "param_dist = {\"max_depth\": [2,4,5],\n",
    "              \"min_samples_split\": [2,4,7,9],\n",
    "              \"min_samples_leaf\": [3,5,7,11],\n",
    "              \"bootstrap\": [True, False],\n",
    "              \"n_estimators\": [12,90,100,300,700],\n",
    "              \"criterion\" : [\"gini\", \"entropy\"],\n",
    "              'max_features': ['sqrt', 'log2', None]\n",
    "             }\n",
    "# run randomized search\n",
    "n_iter_search = 50\n",
    "random_search = RandomizedSearchCV(model, param_distributions = param_dist,\n",
    "                                   n_iter = n_iter_search,\n",
    "                                   n_jobs = -1)"
   ]
  },
  {
   "cell_type": "code",
   "execution_count": 24,
   "metadata": {
    "colab": {
     "base_uri": "https://localhost:8080/",
     "height": 470
    },
    "id": "kxsVBItgl1dC",
    "outputId": "369f9db3-2fc8-476b-80c0-ddbf880c686d"
   },
   "outputs": [
    {
     "data": {
      "text/plain": [
       "RandomizedSearchCV(estimator=RandomForestClassifier(random_state=0), n_iter=50,\n",
       "                   n_jobs=-1,\n",
       "                   param_distributions={'bootstrap': [True, False],\n",
       "                                        'criterion': ['gini', 'entropy'],\n",
       "                                        'max_depth': [2, 4, 5],\n",
       "                                        'max_features': ['sqrt', 'log2', None],\n",
       "                                        'min_samples_leaf': [3, 5, 7, 11],\n",
       "                                        'min_samples_split': [2, 4, 7, 9],\n",
       "                                        'n_estimators': [12, 90, 100, 300,\n",
       "                                                         700]})"
      ]
     },
     "execution_count": 24,
     "metadata": {},
     "output_type": "execute_result"
    }
   ],
   "source": [
    "random_search.fit(X_train, y_train)"
   ]
  },
  {
   "cell_type": "code",
   "execution_count": 25,
   "metadata": {
    "id": "piDz61iNCR-h"
   },
   "outputs": [],
   "source": [
    "y_pred_test1 = random_search.predict(X_test)"
   ]
  },
  {
   "cell_type": "markdown",
   "metadata": {
    "id": "VhnCk9ZZhHXT"
   },
   "source": [
    "## **Random Forest with RandomSearchCV Model Evaluation**"
   ]
  },
  {
   "cell_type": "markdown",
   "metadata": {
    "id": "aIWPAdLDLsH6"
   },
   "source": [
    "### Checking Accuracy"
   ]
  },
  {
   "cell_type": "code",
   "execution_count": 26,
   "metadata": {
    "colab": {
     "base_uri": "https://localhost:8080/",
     "height": 34
    },
    "id": "1tV8luBiLsH6",
    "outputId": "54275940-c898-4e35-b858-9a2310d8af7e"
   },
   "outputs": [
    {
     "name": "stdout",
     "output_type": "stream",
     "text": [
      "Accuracy score for test data is: 0.9988\n"
     ]
    }
   ],
   "source": [
    "print('Accuracy score for test data is:', accuracy_score(y_test,y_pred_test1))"
   ]
  },
  {
   "cell_type": "markdown",
   "metadata": {
    "id": "yfYpZm38LsH8"
   },
   "source": [
    "### Checking Precision Score"
   ]
  },
  {
   "cell_type": "code",
   "execution_count": 27,
   "metadata": {
    "colab": {
     "base_uri": "https://localhost:8080/",
     "height": 34
    },
    "id": "zRh0L5TaLsH9",
    "outputId": "80269d70-51d9-495b-eb0b-4b3b4a0ac3dd"
   },
   "outputs": [
    {
     "data": {
      "text/plain": [
       "0.75"
      ]
     },
     "execution_count": 27,
     "metadata": {},
     "output_type": "execute_result"
    }
   ],
   "source": [
    "precision_score(y_test,y_pred_test1)"
   ]
  },
  {
   "cell_type": "markdown",
   "metadata": {
    "id": "EeW4iqYuLsH_"
   },
   "source": [
    "### Checking Recall Score"
   ]
  },
  {
   "cell_type": "code",
   "execution_count": 28,
   "metadata": {
    "colab": {
     "base_uri": "https://localhost:8080/",
     "height": 34
    },
    "id": "OVBbV7-KLsH_",
    "outputId": "3290dedd-4a1d-4956-aaa8-63a03c4b6b1b"
   },
   "outputs": [
    {
     "data": {
      "text/plain": [
       "0.8571428571428571"
      ]
     },
     "execution_count": 28,
     "metadata": {},
     "output_type": "execute_result"
    }
   ],
   "source": [
    "recall_score(y_test,y_pred_test1)"
   ]
  },
  {
   "cell_type": "markdown",
   "metadata": {
    "id": "T9OzNtIGLsIC"
   },
   "source": [
    "### Checking F1-Score\n"
   ]
  },
  {
   "cell_type": "code",
   "execution_count": 29,
   "metadata": {
    "colab": {
     "base_uri": "https://localhost:8080/",
     "height": 34
    },
    "id": "9koDevfFLsID",
    "outputId": "86c1b5e7-cbe2-4d8a-a64e-436ce05bac89"
   },
   "outputs": [
    {
     "data": {
      "text/plain": [
       "0.7999999999999999"
      ]
     },
     "execution_count": 29,
     "metadata": {},
     "output_type": "execute_result"
    }
   ],
   "source": [
    "f1_score(y_test,y_pred_test1)"
   ]
  },
  {
   "cell_type": "markdown",
   "metadata": {
    "id": "BZnOqmh0LsIE"
   },
   "source": [
    "### Checking ROC-AUC Curve and Precision-Recall Curve"
   ]
  },
  {
   "cell_type": "code",
   "execution_count": 30,
   "metadata": {
    "colab": {
     "base_uri": "https://localhost:8080/",
     "height": 405
    },
    "id": "x9TvfLNwLsIF",
    "outputId": "26f35210-c3ef-4235-ffc7-f1772e72c1e6"
   },
   "outputs": [
    {
     "data": {
      "text/plain": [
       "Text(0.5, 0, 'Recall')"
      ]
     },
     "execution_count": 30,
     "metadata": {},
     "output_type": "execute_result"
    },
    {
     "data": {
      "image/png": "[encoded data removed]",
      "text/plain": [
       "<Figure size 1440x432 with 2 Axes>"
      ]
     },
     "metadata": {
      "needs_background": "light"
     },
     "output_type": "display_data"
    }
   ],
   "source": [
    "fpr_log,tpr_log,thres_log = roc_curve(y_test,y_pred_test1)\n",
    "log_precision, log_recall, log_thres = precision_recall_curve(y_test, y_pred_test1)\n",
    "\n",
    "\n",
    "fig, ax = plt.subplots(1,2,figsize=(20,6))\n",
    "ax[0].plot(fpr_log,tpr_log)\n",
    "ax[0].plot([0, 1], ls=\"--\")\n",
    "ax[0].plot([0, 0], [1, 0] , c=\".7\")\n",
    "ax[0].plot([1, 1] , c=\".7\")\n",
    "ax[0].set_ylabel('True Positive Rate')\n",
    "ax[0].set_xlabel('False Positive Rate')\n",
    "\n",
    "\n",
    "ax[1].plot(log_recall,log_precision)\n",
    "ax[1].plot([0, 1], ls=\"--\")\n",
    "ax[1].plot([0, 0], [1, 0] , c=\".7\")\n",
    "ax[1].plot([1, 1] , c=\".7\")\n",
    "ax[1].set_ylabel('Precision')\n",
    "ax[1].set_xlabel('Recall')"
   ]
  },
  {
   "cell_type": "markdown",
   "metadata": {
    "id": "CQwscfnBDAka"
   },
   "source": [
    "---\n",
    "# **Choosing Better Model Based on Prediction**\n",
    "---"
   ]
  },
  {
   "cell_type": "code",
   "execution_count": 31,
   "metadata": {
    "id": "uFr2cBjJdVbk"
   },
   "outputs": [],
   "source": [
    "recall_dict = {'Baseline Model':recall_score(y_test, y_pred_test),\n",
    "                  'Tuned Model':recall_score(y_test, y_pred_test1)}"
   ]
  },
  {
   "cell_type": "code",
   "execution_count": 32,
   "metadata": {
    "id": "CPRAKZDIaNFo"
   },
   "outputs": [],
   "source": [
    "recall = pd.DataFrame(recall_dict, index=['Scores'])"
   ]
  },
  {
   "cell_type": "code",
   "execution_count": 33,
   "metadata": {
    "colab": {
     "base_uri": "https://localhost:8080/",
     "height": 77
    },
    "id": "NK7ik8ircuzA",
    "outputId": "edef119b-f665-4ec2-cac4-f8431b67b2d5"
   },
   "outputs": [
    {
     "data": {
      "text/html": [
       "<div>\n",
       "<style scoped>\n",
       "    .dataframe tbody tr th:only-of-type {\n",
       "        vertical-align: middle;\n",
       "    }\n",
       "\n",
       "    .dataframe tbody tr th {\n",
       "        vertical-align: top;\n",
       "    }\n",
       "\n",
       "    .dataframe thead th {\n",
       "        text-align: right;\n",
       "    }\n",
       "</style>\n",
       "<table border=\"1\" class=\"dataframe\">\n",
       "  <thead>\n",
       "    <tr style=\"text-align: right;\">\n",
       "      <th></th>\n",
       "      <th>Baseline Model</th>\n",
       "      <th>Tuned Model</th>\n",
       "    </tr>\n",
       "  </thead>\n",
       "  <tbody>\n",
       "    <tr>\n",
       "      <th>Scores</th>\n",
       "      <td>0.71429</td>\n",
       "      <td>0.85714</td>\n",
       "    </tr>\n",
       "  </tbody>\n",
       "</table>\n",
       "</div>"
      ],
      "text/plain": [
       "        Baseline Model  Tuned Model\n",
       "Scores         0.71429      0.85714"
      ]
     },
     "execution_count": 33,
     "metadata": {},
     "output_type": "execute_result"
    }
   ],
   "source": [
    "recall"
   ]
  },
  {
   "cell_type": "markdown",
   "metadata": {
    "id": "IgD8F0_IfD5Y"
   },
   "source": [
    "- We have **compared the performance** of the two models using **various model evaluation techinques**.\n",
    "\n",
    "- Our **objective is to minimize False Positive** so that no innocent is convicted as guilty. Therefore, **among recall & precision scores, we will give more importance to precision score**.\n",
    "  \n",
    "  - **Recall score for model1 is: 0.71**\n",
    "\n",
    "  - **Recall score for model2 is: 0.85**\n",
    "\n",
    "* As **Recall score of Tuned Model is greater** than that of Baseline Model, therefore, **Tuned Model** is preferable."
   ]
  },
  {
   "cell_type": "markdown",
   "metadata": {
    "id": "vvdyWL6VgXMo"
   },
   "source": [
    "<a name = Section8></a>\n",
    "\n",
    "---\n",
    "# **Conclusion**\n",
    "---\n",
    "\n",
    "- We **studied in breifly about the data**, its **characteristics** and its **distribution**.\n",
    "\n",
    "- We **investigated in depth about the features** which to **retain** and which to **discard**.\n",
    "\n",
    "- We **performed model training**.\n",
    "\n",
    "- We **observed metrics for our prediction**.\n",
    "\n",
    "- This **model** now can **help us** in **identifying** the criminal."
   ]
  },
  {
   "cell_type": "code",
   "execution_count": null,
   "metadata": {},
   "outputs": [],
   "source": []
  }
 ],
 "metadata": {
  "colab": {
   "collapsed_sections": [],
   "name": "Model Evaluation - Recall.ipynb",
   "provenance": []
  },
  "kernelspec": {
   "display_name": "Python 3",
   "language": "python",
   "name": "python3"
  },
  "language_info": {
   "codemirror_mode": {
    "name": "ipython",
    "version": 3
   },
   "file_extension": ".py",
   "mimetype": "text/x-python",
   "name": "python",
   "nbconvert_exporter": "python",
   "pygments_lexer": "ipython3",
   "version": "3.8.5"
  }
 },
 "nbformat": 4,
 "nbformat_minor": 1
}
